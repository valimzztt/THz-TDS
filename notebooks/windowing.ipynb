{
 "cells": [
  {
   "cell_type": "code",
   "execution_count": 2,
   "metadata": {},
   "outputs": [
    {
     "data": {
      "application/vnd.jupyter.widget-view+json": {
       "model_id": "6497a6de102143f68706c2854ec0f64a",
       "version_major": 2,
       "version_minor": 0
      },
      "text/plain": [
       "interactive(children=(IntSlider(value=230, description='Ref Width', max=500, min=10, step=10), FloatSlider(val…"
      ]
     },
     "metadata": {},
     "output_type": "display_data"
    },
    {
     "data": {
      "application/vnd.jupyter.widget-view+json": {
       "model_id": "7bb4e90662994e36988954757faa059b",
       "version_major": 2,
       "version_minor": 0
      },
      "text/plain": [
       "Button(description='Save Processed Files', style=ButtonStyle())"
      ]
     },
     "metadata": {},
     "output_type": "display_data"
    },
    {
     "name": "stdout",
     "output_type": "stream",
     "text": [
      "Processed Reference saved to ../processed_dataDec1\\Processed_Reference.d24\n",
      "Processed Sample saved to ../processed_dataDec1\\Processed_Sample.d24\n"
     ]
    }
   ],
   "source": [
    "import os\n",
    "import pandas as pd\n",
    "import matplotlib.pyplot as plt\n",
    "import numpy as np\n",
    "from ipywidgets import interact, IntSlider, FloatSlider\n",
    "from IPython.display import display\n",
    "\n",
    "\n",
    "data_folder = \"../dataDec1\"  \n",
    "output_folder = \"../processed_dataDec1\"  \n",
    "reference_file = os.path.join(data_folder, \"Reference.d24\")\n",
    "sample_file = os.path.join(data_folder, \"Sample.d24\")\n",
    "\n",
    "if not os.path.exists(reference_file):\n",
    "    raise FileNotFoundError(f\"Reference.d24 not found in: {reference_file}\")\n",
    "if not os.path.exists(sample_file):\n",
    "    raise FileNotFoundError(f\"Sample.d24 not found in: {sample_file}\")\n",
    "\n",
    "\n",
    "os.makedirs(output_folder, exist_ok=True)\n",
    "\n",
    "def read_d24_file(file_name):\n",
    "    with open(file_name, 'r') as file:\n",
    "        lines = file.readlines()\n",
    "    start_line = next(i for i, line in enumerate(lines) if line.lstrip()[0].isdigit())\n",
    "    data_lines = lines[start_line:]\n",
    "    return pd.DataFrame(\n",
    "        [list(map(float, line.split())) for line in data_lines],\n",
    "        columns=[\"Time (ps)\", \"Signal\", \"Column3\", \"Column4\", \"Column5\"]\n",
    "    )[[\"Time (ps)\", \"Signal\"]]\n",
    "\n",
    "# Load data\n",
    "reference_data = read_d24_file(reference_file)\n",
    "sample_data = read_d24_file(sample_file)\n",
    "\n",
    "\n",
    "processed_reference = None\n",
    "processed_sample = None\n",
    "\n",
    "def plot_with_hann_and_fft(ref_window_width, ref_mult_const, sample_window_width, sample_mult_const):\n",
    "    global processed_reference, processed_sample\n",
    "    \n",
    "    # Generate Hann windows and scale them by the multiplication constants\n",
    "    ref_hann_window = ref_mult_const * np.hanning(ref_window_width)\n",
    "    sample_hann_window = sample_mult_const * np.hanning(sample_window_width)\n",
    "    \n",
    "    def apply_hann(data, hann_window):\n",
    "        signal = data[\"Signal\"].values\n",
    "        padded_window = np.pad(hann_window, (0, len(signal) - len(hann_window)), 'constant')\n",
    "        return signal * padded_window\n",
    "\n",
    "    # Apply Hann windows\n",
    "    reference_windowed = apply_hann(reference_data, ref_hann_window)\n",
    "    sample_windowed = apply_hann(sample_data, sample_hann_window)\n",
    "\n",
    "    # Store processed data for saving\n",
    "    processed_reference = reference_data.copy()\n",
    "    processed_sample = sample_data.copy()\n",
    "    processed_reference[\"Signal\"] = reference_windowed\n",
    "    processed_sample[\"Signal\"] = sample_windowed\n",
    "\n",
    "    # Compute FFT\n",
    "    ref_fft = np.abs(np.fft.fft(reference_windowed))\n",
    "    sample_fft = np.abs(np.fft.fft(sample_windowed))\n",
    "    freqs = np.fft.fftfreq(len(reference_windowed), d=(reference_data[\"Time (ps)\"].iloc[1] - reference_data[\"Time (ps)\"].iloc[0]))\n",
    "\n",
    "    # Plot\n",
    "    fig, axs = plt.subplots(2, 1, figsize=(12, 10))\n",
    "\n",
    "    # Time-domain plots\n",
    "    axs[0].plot(reference_data[\"Time (ps)\"], reference_data[\"Signal\"], label=\"Reference Original\", color='blue')\n",
    "    axs[0].plot(reference_data[\"Time (ps)\"], reference_windowed, label=\"Reference Windowed\", linestyle=\"--\", color='cyan')\n",
    "    axs[0].plot(sample_data[\"Time (ps)\"], sample_data[\"Signal\"], label=\"Sample Original\", color='red')\n",
    "    axs[0].plot(sample_data[\"Time (ps)\"], sample_windowed, label=\"Sample Windowed\", linestyle=\"--\", color='orange')\n",
    "    axs[0].set_title(f\"Time-Domain Signals with Hann Window\\n(Ref: {ref_window_width}, Sample: {sample_window_width}, Ref Const: {ref_mult_const:.2f}, Sample Const: {sample_mult_const:.2f})\")\n",
    "    axs[0].set_xlabel(\"Time (ps)\")\n",
    "    axs[0].set_ylabel(\"Signal\")\n",
    "    axs[0].legend()\n",
    "    axs[0].grid(True)\n",
    "\n",
    "    # Frequency-domain (FFT) plots\n",
    "    axs[1].plot(freqs[:len(freqs)//2], ref_fft[:len(freqs)//2], label=\"Reference FFT\", color='blue')\n",
    "    axs[1].plot(freqs[:len(freqs)//2], sample_fft[:len(freqs)//2], label=\"Sample FFT\", color='red')\n",
    "    axs[1].set_title(\"Frequency-Domain (Fourier Transform)\")\n",
    "    axs[1].set_xlabel(\"Frequency (THz)\")\n",
    "    axs[1].set_ylabel(\"Amplitude\")\n",
    "    axs[1].legend()\n",
    "    axs[1].grid(True)\n",
    "\n",
    "    plt.tight_layout()\n",
    "    plt.show()\n",
    "\n",
    "# Create sliders for the two Hann windows, multiplication constants, and interactive plot\n",
    "interact(\n",
    "    plot_with_hann_and_fft, \n",
    "    ref_window_width=IntSlider(min=10, max=500, step=10, value=230, description=\"Ref Width\"),\n",
    "    ref_mult_const=FloatSlider(min=0.1, max=2.0, step=0.1, value=1.0, description=\"Ref Const\"),\n",
    "    sample_window_width=IntSlider(min=10, max=500, step=10, value=220, description=\"Sample Width\"),\n",
    "    sample_mult_const=FloatSlider(min=0.1, max=2.0, step=0.1, value=1.0, description=\"Sample Const\")\n",
    ");\n",
    "\n",
    "\n",
    "# Save processed files when the user is done\n",
    "def save_processed_files():\n",
    "    if processed_reference is not None and processed_sample is not None:\n",
    "        ref_output_file = os.path.join(output_folder, \"Processed_Reference.d24\")\n",
    "        sample_output_file = os.path.join(output_folder, \"Processed_Sample.d24\")\n",
    "        \n",
    "        # Save processed Reference\n",
    "        processed_reference.to_csv(ref_output_file, sep=\"\\t\", index=False, header=False)\n",
    "        print(f\"Processed Reference saved to {ref_output_file}\")\n",
    "\n",
    "        # Save processed Sample\n",
    "        processed_sample.to_csv(sample_output_file, sep=\"\\t\", index=False, header=False)\n",
    "        print(f\"Processed Sample saved to {sample_output_file}\")\n",
    "    else:\n",
    "        print(\"No processed data to save.\")\n",
    "\n",
    "# Display a button to save files\n",
    "from ipywidgets import Button\n",
    "save_button = Button(description=\"Save Processed Files\")\n",
    "save_button.on_click(lambda x: save_processed_files())\n",
    "display(save_button)\n"
   ]
  }
 ],
 "metadata": {
  "kernelspec": {
   "display_name": "Python 3",
   "language": "python",
   "name": "python3"
  },
  "language_info": {
   "codemirror_mode": {
    "name": "ipython",
    "version": 3
   },
   "file_extension": ".py",
   "mimetype": "text/x-python",
   "name": "python",
   "nbconvert_exporter": "python",
   "pygments_lexer": "ipython3",
   "version": "3.11.0"
  }
 },
 "nbformat": 4,
 "nbformat_minor": 2
}
